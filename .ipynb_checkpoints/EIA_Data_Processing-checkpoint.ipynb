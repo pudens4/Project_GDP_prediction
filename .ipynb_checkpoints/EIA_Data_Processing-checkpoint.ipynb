{
 "cells": [
  {
   "cell_type": "code",
   "execution_count": 1,
   "id": "8e3cc1fd",
   "metadata": {},
   "outputs": [],
   "source": [
    "import os\n",
    "import pandas as pd\n",
    "import numpy as np"
   ]
  },
  {
   "cell_type": "code",
   "execution_count": 2,
   "id": "2b1d2ea3",
   "metadata": {},
   "outputs": [],
   "source": [
    "#file to load\n",
    "#load sales(consumption)\n",
    "#load monthly total fuel \n",
    "\n",
    "sales_load = 'Resources/sales_revenue.csv'\n",
    "monthly_total_fuel = 'Resources/Monthly_Total_Fuel.csv'\n",
    "\n",
    "#store the data as Pandas DataFrame\n",
    "sales_load_df = pd.read_csv(sales_load,  header=[0,1,2], index_col=[0,1,2,3])\n",
    "monthly_total_fuel_df = pd.read_csv(monthly_total_fuel ,header = [0])"
   ]
  },
  {
   "cell_type": "code",
   "execution_count": 3,
   "id": "4be3e6f3",
   "metadata": {},
   "outputs": [
    {
     "data": {
      "text/html": [
       "<div>\n",
       "<style scoped>\n",
       "    .dataframe tbody tr th:only-of-type {\n",
       "        vertical-align: middle;\n",
       "    }\n",
       "\n",
       "    .dataframe tbody tr th {\n",
       "        vertical-align: top;\n",
       "    }\n",
       "\n",
       "    .dataframe thead tr th {\n",
       "        text-align: left;\n",
       "    }\n",
       "\n",
       "    .dataframe thead tr:last-of-type th {\n",
       "        text-align: right;\n",
       "    }\n",
       "</style>\n",
       "<table border=\"1\" class=\"dataframe\">\n",
       "  <thead>\n",
       "    <tr>\n",
       "      <th></th>\n",
       "      <th></th>\n",
       "      <th></th>\n",
       "      <th></th>\n",
       "      <th colspan=\"4\" halign=\"left\">RESIDENTIAL</th>\n",
       "      <th colspan=\"4\" halign=\"left\">COMMERCIAL</th>\n",
       "      <th colspan=\"2\" halign=\"left\">INDUSTRIAL</th>\n",
       "      <th>...</th>\n",
       "      <th colspan=\"2\" halign=\"left\">TRANSPORTATION</th>\n",
       "      <th colspan=\"4\" halign=\"left\">OTHER</th>\n",
       "      <th colspan=\"4\" halign=\"left\">TOTAL</th>\n",
       "    </tr>\n",
       "    <tr>\n",
       "      <th></th>\n",
       "      <th></th>\n",
       "      <th></th>\n",
       "      <th></th>\n",
       "      <th>Revenue</th>\n",
       "      <th>Sales</th>\n",
       "      <th>Customers</th>\n",
       "      <th>Price</th>\n",
       "      <th>Revenue</th>\n",
       "      <th>Sales</th>\n",
       "      <th>Customers</th>\n",
       "      <th>Price</th>\n",
       "      <th>Revenue</th>\n",
       "      <th>Sales</th>\n",
       "      <th>...</th>\n",
       "      <th>Customers</th>\n",
       "      <th>Price</th>\n",
       "      <th>Revenue</th>\n",
       "      <th>Sales</th>\n",
       "      <th>Customers</th>\n",
       "      <th>Price</th>\n",
       "      <th>Revenue</th>\n",
       "      <th>Sales</th>\n",
       "      <th>Customers</th>\n",
       "      <th>Price</th>\n",
       "    </tr>\n",
       "    <tr>\n",
       "      <th></th>\n",
       "      <th></th>\n",
       "      <th></th>\n",
       "      <th></th>\n",
       "      <th>Thousand Dollars</th>\n",
       "      <th>Megawatthours</th>\n",
       "      <th>Count</th>\n",
       "      <th>Cents/kWh</th>\n",
       "      <th>Thousand Dollars</th>\n",
       "      <th>Megawatthours</th>\n",
       "      <th>Count</th>\n",
       "      <th>Cents/kWh</th>\n",
       "      <th>Thousand Dollars</th>\n",
       "      <th>Megawatthours</th>\n",
       "      <th>...</th>\n",
       "      <th>Count</th>\n",
       "      <th>Cents/kWh</th>\n",
       "      <th>Thousand Dollars</th>\n",
       "      <th>Megawatthours</th>\n",
       "      <th>Count</th>\n",
       "      <th>Cents/kWh</th>\n",
       "      <th>Thousand Dollars</th>\n",
       "      <th>Megawatthours</th>\n",
       "      <th>Count</th>\n",
       "      <th>Cents/kWh</th>\n",
       "    </tr>\n",
       "    <tr>\n",
       "      <th>Year</th>\n",
       "      <th>Month</th>\n",
       "      <th>State</th>\n",
       "      <th>Data Status</th>\n",
       "      <th></th>\n",
       "      <th></th>\n",
       "      <th></th>\n",
       "      <th></th>\n",
       "      <th></th>\n",
       "      <th></th>\n",
       "      <th></th>\n",
       "      <th></th>\n",
       "      <th></th>\n",
       "      <th></th>\n",
       "      <th></th>\n",
       "      <th></th>\n",
       "      <th></th>\n",
       "      <th></th>\n",
       "      <th></th>\n",
       "      <th></th>\n",
       "      <th></th>\n",
       "      <th></th>\n",
       "      <th></th>\n",
       "      <th></th>\n",
       "      <th></th>\n",
       "    </tr>\n",
       "  </thead>\n",
       "  <tbody>\n",
       "    <tr>\n",
       "      <th rowspan=\"5\" valign=\"top\">1990</th>\n",
       "      <th rowspan=\"5\" valign=\"top\">1</th>\n",
       "      <th>AK</th>\n",
       "      <th>Final</th>\n",
       "      <td>17,477</td>\n",
       "      <td>181,752</td>\n",
       "      <td>.</td>\n",
       "      <td>9.62</td>\n",
       "      <td>15,818</td>\n",
       "      <td>178,259</td>\n",
       "      <td>.</td>\n",
       "      <td>8.87</td>\n",
       "      <td>3,636</td>\n",
       "      <td>41,610</td>\n",
       "      <td>...</td>\n",
       "      <td>.</td>\n",
       "      <td>.</td>\n",
       "      <td>1,918</td>\n",
       "      <td>14,816</td>\n",
       "      <td>.</td>\n",
       "      <td>12.95</td>\n",
       "      <td>38,848</td>\n",
       "      <td>416,438</td>\n",
       "      <td>.</td>\n",
       "      <td>9.33</td>\n",
       "    </tr>\n",
       "    <tr>\n",
       "      <th>AL</th>\n",
       "      <th>Final</th>\n",
       "      <td>123,332</td>\n",
       "      <td>2,070,093</td>\n",
       "      <td>.</td>\n",
       "      <td>5.96</td>\n",
       "      <td>54,495</td>\n",
       "      <td>820,415</td>\n",
       "      <td>.</td>\n",
       "      <td>6.64</td>\n",
       "      <td>87,762</td>\n",
       "      <td>2,099,546</td>\n",
       "      <td>...</td>\n",
       "      <td>.</td>\n",
       "      <td>.</td>\n",
       "      <td>2,851</td>\n",
       "      <td>53,954</td>\n",
       "      <td>.</td>\n",
       "      <td>5.28</td>\n",
       "      <td>268,440</td>\n",
       "      <td>5,044,008</td>\n",
       "      <td>.</td>\n",
       "      <td>5.32</td>\n",
       "    </tr>\n",
       "    <tr>\n",
       "      <th>AR</th>\n",
       "      <th>Final</th>\n",
       "      <td>72,506</td>\n",
       "      <td>1,026,320</td>\n",
       "      <td>.</td>\n",
       "      <td>7.06</td>\n",
       "      <td>30,966</td>\n",
       "      <td>474,988</td>\n",
       "      <td>.</td>\n",
       "      <td>6.52</td>\n",
       "      <td>37,046</td>\n",
       "      <td>782,491</td>\n",
       "      <td>...</td>\n",
       "      <td>.</td>\n",
       "      <td>.</td>\n",
       "      <td>3,117</td>\n",
       "      <td>47,600</td>\n",
       "      <td>.</td>\n",
       "      <td>6.55</td>\n",
       "      <td>143,635</td>\n",
       "      <td>2,331,399</td>\n",
       "      <td>.</td>\n",
       "      <td>6.16</td>\n",
       "    </tr>\n",
       "    <tr>\n",
       "      <th>AZ</th>\n",
       "      <th>Final</th>\n",
       "      <td>109,332</td>\n",
       "      <td>1,396,499</td>\n",
       "      <td>.</td>\n",
       "      <td>7.83</td>\n",
       "      <td>82,694</td>\n",
       "      <td>1,081,793</td>\n",
       "      <td>.</td>\n",
       "      <td>7.64</td>\n",
       "      <td>43,274</td>\n",
       "      <td>809,797</td>\n",
       "      <td>...</td>\n",
       "      <td>.</td>\n",
       "      <td>.</td>\n",
       "      <td>7,833</td>\n",
       "      <td>151,064</td>\n",
       "      <td>.</td>\n",
       "      <td>5.19</td>\n",
       "      <td>243,133</td>\n",
       "      <td>3,439,153</td>\n",
       "      <td>.</td>\n",
       "      <td>7.07</td>\n",
       "    </tr>\n",
       "    <tr>\n",
       "      <th>CA</th>\n",
       "      <th>Final</th>\n",
       "      <td>597,161</td>\n",
       "      <td>6,168,009</td>\n",
       "      <td>.</td>\n",
       "      <td>9.68</td>\n",
       "      <td>508,517</td>\n",
       "      <td>6,011,774</td>\n",
       "      <td>.</td>\n",
       "      <td>8.46</td>\n",
       "      <td>268,759</td>\n",
       "      <td>4,454,664</td>\n",
       "      <td>...</td>\n",
       "      <td>.</td>\n",
       "      <td>.</td>\n",
       "      <td>32,100</td>\n",
       "      <td>869,565</td>\n",
       "      <td>.</td>\n",
       "      <td>3.69</td>\n",
       "      <td>1,406,536</td>\n",
       "      <td>17,504,013</td>\n",
       "      <td>.</td>\n",
       "      <td>8.04</td>\n",
       "    </tr>\n",
       "  </tbody>\n",
       "</table>\n",
       "<p>5 rows × 24 columns</p>\n",
       "</div>"
      ],
      "text/plain": [
       "                                  RESIDENTIAL                          \\\n",
       "                                      Revenue         Sales Customers   \n",
       "                             Thousand Dollars Megawatthours     Count   \n",
       "Year Month State Data Status                                            \n",
       "1990 1     AK    Final                 17,477       181,752         .   \n",
       "           AL    Final                123,332     2,070,093         .   \n",
       "           AR    Final                 72,506     1,026,320         .   \n",
       "           AZ    Final                109,332     1,396,499         .   \n",
       "           CA    Final                597,161     6,168,009         .   \n",
       "\n",
       "                                             COMMERCIAL                \\\n",
       "                                 Price          Revenue         Sales   \n",
       "                             Cents/kWh Thousand Dollars Megawatthours   \n",
       "Year Month State Data Status                                            \n",
       "1990 1     AK    Final            9.62           15,818       178,259   \n",
       "           AL    Final            5.96           54,495       820,415   \n",
       "           AR    Final            7.06           30,966       474,988   \n",
       "           AZ    Final            7.83           82,694     1,081,793   \n",
       "           CA    Final            9.68          508,517     6,011,774   \n",
       "\n",
       "                                                       INDUSTRIAL  \\\n",
       "                             Customers     Price          Revenue   \n",
       "                                 Count Cents/kWh Thousand Dollars   \n",
       "Year Month State Data Status                                        \n",
       "1990 1     AK    Final               .      8.87            3,636   \n",
       "           AL    Final               .      6.64           87,762   \n",
       "           AR    Final               .      6.52           37,046   \n",
       "           AZ    Final               .      7.64           43,274   \n",
       "           CA    Final               .      8.46          268,759   \n",
       "\n",
       "                                            ... TRANSPORTATION            \\\n",
       "                                     Sales  ...      Customers     Price   \n",
       "                             Megawatthours  ...          Count Cents/kWh   \n",
       "Year Month State Data Status                ...                            \n",
       "1990 1     AK    Final              41,610  ...              .         .   \n",
       "           AL    Final           2,099,546  ...              .         .   \n",
       "           AR    Final             782,491  ...              .         .   \n",
       "           AZ    Final             809,797  ...              .         .   \n",
       "           CA    Final           4,454,664  ...              .         .   \n",
       "\n",
       "                                        OTHER                          \\\n",
       "                                      Revenue         Sales Customers   \n",
       "                             Thousand Dollars Megawatthours     Count   \n",
       "Year Month State Data Status                                            \n",
       "1990 1     AK    Final                  1,918        14,816         .   \n",
       "           AL    Final                  2,851        53,954         .   \n",
       "           AR    Final                  3,117        47,600         .   \n",
       "           AZ    Final                  7,833       151,064         .   \n",
       "           CA    Final                 32,100       869,565         .   \n",
       "\n",
       "                                                  TOTAL                \\\n",
       "                                 Price          Revenue         Sales   \n",
       "                             Cents/kWh Thousand Dollars Megawatthours   \n",
       "Year Month State Data Status                                            \n",
       "1990 1     AK    Final           12.95           38,848       416,438   \n",
       "           AL    Final            5.28          268,440     5,044,008   \n",
       "           AR    Final            6.55          143,635     2,331,399   \n",
       "           AZ    Final            5.19          243,133     3,439,153   \n",
       "           CA    Final            3.69        1,406,536    17,504,013   \n",
       "\n",
       "                                                  \n",
       "                             Customers     Price  \n",
       "                                 Count Cents/kWh  \n",
       "Year Month State Data Status                      \n",
       "1990 1     AK    Final               .      9.33  \n",
       "           AL    Final               .      5.32  \n",
       "           AR    Final               .      6.16  \n",
       "           AZ    Final               .      7.07  \n",
       "           CA    Final               .      8.04  \n",
       "\n",
       "[5 rows x 24 columns]"
      ]
     },
     "execution_count": 3,
     "metadata": {},
     "output_type": "execute_result"
    }
   ],
   "source": [
    "# consumption data per sector and per states since 1990\n",
    "# data can be useful in analyzing GDP per sectors, and or States\n",
    "sales_load_df.head()"
   ]
  },
  {
   "cell_type": "code",
   "execution_count": 4,
   "id": "0a4ba528",
   "metadata": {},
   "outputs": [
    {
     "data": {
      "text/plain": [
       "FrozenList([['COMMERCIAL', 'INDUSTRIAL', 'OTHER', 'RESIDENTIAL', 'TOTAL', 'TRANSPORTATION'], ['Customers', 'Price', 'Revenue', 'Sales'], ['Cents/kWh', 'Count', 'Megawatthours', 'Thousand Dollars']])"
      ]
     },
     "execution_count": 4,
     "metadata": {},
     "output_type": "execute_result"
    }
   ],
   "source": [
    "sales_load_df.columns.levels"
   ]
  },
  {
   "cell_type": "code",
   "execution_count": 5,
   "id": "7f8afd9e",
   "metadata": {},
   "outputs": [
    {
     "data": {
      "text/plain": [
       "FrozenList([[1990, 1991, 1992, 1993, 1994, 1995, 1996, 1997, 1998, 1999, 2000, 2001, 2002, 2003, 2004, 2005, 2006, 2007, 2008, 2009, 2010, 2011, 2012, 2013, 2014, 2015, 2016, 2017, 2018, 2019, 2020, 2021], [1, 2, 3, 4, 5, 6, 7, 8, 9, 10, 11, 12], ['AK', 'AL', 'AR', 'AZ', 'CA', 'CO', 'CT', 'DC', 'DE', 'FL', 'GA', 'HI', 'IA', 'ID', 'IL', 'IN', 'KS', 'KY', 'LA', 'MA', 'MD', 'ME', 'MI', 'MN', 'MO', 'MS', 'MT', 'NC', 'ND', 'NE', 'NH', 'NJ', 'NM', 'NV', 'NY', 'OH', 'OK', 'OR', 'PA', 'RI', 'SC', 'SD', 'TN', 'TX', 'UT', 'VA', 'VT', 'WA', 'WI', 'WV', 'WY'], ['Final', 'Preliminary']])"
      ]
     },
     "execution_count": 5,
     "metadata": {},
     "output_type": "execute_result"
    }
   ],
   "source": [
    "sales_load_df.index.levels"
   ]
  },
  {
   "cell_type": "code",
   "execution_count": 6,
   "id": "91790775",
   "metadata": {},
   "outputs": [
    {
     "data": {
      "text/plain": [
       "Index(['RESIDENTIAL', 'RESIDENTIAL', 'RESIDENTIAL', 'RESIDENTIAL',\n",
       "       'COMMERCIAL', 'COMMERCIAL', 'COMMERCIAL', 'COMMERCIAL', 'INDUSTRIAL',\n",
       "       'INDUSTRIAL', 'INDUSTRIAL', 'INDUSTRIAL', 'TRANSPORTATION',\n",
       "       'TRANSPORTATION', 'TRANSPORTATION', 'TRANSPORTATION', 'OTHER', 'OTHER',\n",
       "       'OTHER', 'OTHER', 'TOTAL', 'TOTAL', 'TOTAL', 'TOTAL'],\n",
       "      dtype='object')"
      ]
     },
     "execution_count": 6,
     "metadata": {},
     "output_type": "execute_result"
    }
   ],
   "source": [
    "sales_load_df.columns.get_level_values(0)"
   ]
  },
  {
   "cell_type": "code",
   "execution_count": 7,
   "id": "df70e646",
   "metadata": {},
   "outputs": [
    {
     "data": {
      "text/plain": [
       "Index(['Revenue', 'Sales', 'Customers', 'Price', 'Revenue', 'Sales',\n",
       "       'Customers', 'Price', 'Revenue', 'Sales', 'Customers', 'Price',\n",
       "       'Revenue', 'Sales', 'Customers', 'Price', 'Revenue', 'Sales',\n",
       "       'Customers', 'Price', 'Revenue', 'Sales', 'Customers', 'Price'],\n",
       "      dtype='object')"
      ]
     },
     "execution_count": 7,
     "metadata": {},
     "output_type": "execute_result"
    }
   ],
   "source": [
    "sales_load_df.columns.get_level_values(1)"
   ]
  },
  {
   "cell_type": "code",
   "execution_count": 8,
   "id": "1f51ccf2",
   "metadata": {},
   "outputs": [
    {
     "data": {
      "text/plain": [
       "Index(['Thousand Dollars', 'Megawatthours', 'Count', 'Cents/kWh',\n",
       "       'Thousand Dollars', 'Megawatthours', 'Count', 'Cents/kWh',\n",
       "       'Thousand Dollars', 'Megawatthours', 'Count', 'Cents/kWh',\n",
       "       'Thousand Dollars', 'Megawatthours', 'Count', 'Cents/kWh',\n",
       "       'Thousand Dollars', 'Megawatthours', 'Count', 'Cents/kWh',\n",
       "       'Thousand Dollars', 'Megawatthours', 'Count', 'Cents/kWh'],\n",
       "      dtype='object')"
      ]
     },
     "execution_count": 8,
     "metadata": {},
     "output_type": "execute_result"
    }
   ],
   "source": [
    "sales_load_df.columns.get_level_values(2)"
   ]
  },
  {
   "cell_type": "code",
   "execution_count": 9,
   "id": "86abcdad",
   "metadata": {},
   "outputs": [
    {
     "data": {
      "text/plain": [
       "MultiIndex([(   'RESIDENTIAL',   'Revenue', 'Thousand Dollars'),\n",
       "            (   'RESIDENTIAL',     'Sales',    'Megawatthours'),\n",
       "            (   'RESIDENTIAL', 'Customers',            'Count'),\n",
       "            (   'RESIDENTIAL',     'Price',        'Cents/kWh'),\n",
       "            (    'COMMERCIAL',   'Revenue', 'Thousand Dollars'),\n",
       "            (    'COMMERCIAL',     'Sales',    'Megawatthours'),\n",
       "            (    'COMMERCIAL', 'Customers',            'Count'),\n",
       "            (    'COMMERCIAL',     'Price',        'Cents/kWh'),\n",
       "            (    'INDUSTRIAL',   'Revenue', 'Thousand Dollars'),\n",
       "            (    'INDUSTRIAL',     'Sales',    'Megawatthours'),\n",
       "            (    'INDUSTRIAL', 'Customers',            'Count'),\n",
       "            (    'INDUSTRIAL',     'Price',        'Cents/kWh'),\n",
       "            ('TRANSPORTATION',   'Revenue', 'Thousand Dollars'),\n",
       "            ('TRANSPORTATION',     'Sales',    'Megawatthours'),\n",
       "            ('TRANSPORTATION', 'Customers',            'Count'),\n",
       "            ('TRANSPORTATION',     'Price',        'Cents/kWh'),\n",
       "            (         'OTHER',   'Revenue', 'Thousand Dollars'),\n",
       "            (         'OTHER',     'Sales',    'Megawatthours'),\n",
       "            (         'OTHER', 'Customers',            'Count'),\n",
       "            (         'OTHER',     'Price',        'Cents/kWh'),\n",
       "            (         'TOTAL',   'Revenue', 'Thousand Dollars'),\n",
       "            (         'TOTAL',     'Sales',    'Megawatthours'),\n",
       "            (         'TOTAL', 'Customers',            'Count'),\n",
       "            (         'TOTAL',     'Price',        'Cents/kWh')],\n",
       "           )"
      ]
     },
     "execution_count": 9,
     "metadata": {},
     "output_type": "execute_result"
    }
   ],
   "source": [
    "sales_load_df.columns"
   ]
  },
  {
   "cell_type": "code",
   "execution_count": 10,
   "id": "38d60a0b",
   "metadata": {},
   "outputs": [
    {
     "data": {
      "text/plain": [
       "MultiIndex([(1990, 1, 'AK',       'Final'),\n",
       "            (1990, 1, 'AL',       'Final'),\n",
       "            (1990, 1, 'AR',       'Final'),\n",
       "            (1990, 1, 'AZ',       'Final'),\n",
       "            (1990, 1, 'CA',       'Final'),\n",
       "            (1990, 1, 'CO',       'Final'),\n",
       "            (1990, 1, 'CT',       'Final'),\n",
       "            (1990, 1, 'DC',       'Final'),\n",
       "            (1990, 1, 'DE',       'Final'),\n",
       "            (1990, 1, 'FL',       'Final'),\n",
       "            ...\n",
       "            (2021, 9, 'SD', 'Preliminary'),\n",
       "            (2021, 9, 'TN', 'Preliminary'),\n",
       "            (2021, 9, 'TX', 'Preliminary'),\n",
       "            (2021, 9, 'UT', 'Preliminary'),\n",
       "            (2021, 9, 'VA', 'Preliminary'),\n",
       "            (2021, 9, 'VT', 'Preliminary'),\n",
       "            (2021, 9, 'WA', 'Preliminary'),\n",
       "            (2021, 9, 'WI', 'Preliminary'),\n",
       "            (2021, 9, 'WV', 'Preliminary'),\n",
       "            (2021, 9, 'WY', 'Preliminary')],\n",
       "           names=['Year', 'Month', 'State', 'Data Status'], length=19431)"
      ]
     },
     "execution_count": 10,
     "metadata": {},
     "output_type": "execute_result"
    }
   ],
   "source": [
    "sales_load_df.index"
   ]
  },
  {
   "cell_type": "code",
   "execution_count": 11,
   "id": "29855895",
   "metadata": {},
   "outputs": [
    {
     "name": "stdout",
     "output_type": "stream",
     "text": [
      "<class 'pandas.core.frame.DataFrame'>\n",
      "MultiIndex: 19431 entries, (1990, 1, 'AK', 'Final') to (2021, 9, 'WY', 'Preliminary')\n",
      "Data columns (total 24 columns):\n",
      " #   Column                                       Non-Null Count  Dtype  \n",
      "---  ------                                       --------------  -----  \n",
      " 0   (RESIDENTIAL, Revenue, Thousand Dollars)     19431 non-null  object \n",
      " 1   (RESIDENTIAL, Sales, Megawatthours)          19431 non-null  object \n",
      " 2   (RESIDENTIAL, Customers, Count)              19431 non-null  object \n",
      " 3   (RESIDENTIAL, Price, Cents/kWh)              19431 non-null  float64\n",
      " 4   (COMMERCIAL, Revenue, Thousand Dollars)      19431 non-null  object \n",
      " 5   (COMMERCIAL, Sales, Megawatthours)           19431 non-null  object \n",
      " 6   (COMMERCIAL, Customers, Count)               19431 non-null  object \n",
      " 7   (COMMERCIAL, Price, Cents/kWh)               19431 non-null  object \n",
      " 8   (INDUSTRIAL, Revenue, Thousand Dollars)      19431 non-null  object \n",
      " 9   (INDUSTRIAL, Sales, Megawatthours)           19431 non-null  object \n",
      " 10  (INDUSTRIAL, Customers, Count)               19431 non-null  object \n",
      " 11  (INDUSTRIAL, Price, Cents/kWh)               19431 non-null  object \n",
      " 12  (TRANSPORTATION, Revenue, Thousand Dollars)  19431 non-null  object \n",
      " 13  (TRANSPORTATION, Sales, Megawatthours)       19431 non-null  object \n",
      " 14  (TRANSPORTATION, Customers, Count)           19431 non-null  object \n",
      " 15  (TRANSPORTATION, Price, Cents/kWh)           19431 non-null  object \n",
      " 16  (OTHER, Revenue, Thousand Dollars)           19431 non-null  object \n",
      " 17  (OTHER, Sales, Megawatthours)                19431 non-null  object \n",
      " 18  (OTHER, Customers, Count)                    19431 non-null  object \n",
      " 19  (OTHER, Price, Cents/kWh)                    19431 non-null  object \n",
      " 20  (TOTAL, Revenue, Thousand Dollars)           19431 non-null  object \n",
      " 21  (TOTAL, Sales, Megawatthours)                19431 non-null  object \n",
      " 22  (TOTAL, Customers, Count)                    19431 non-null  object \n",
      " 23  (TOTAL, Price, Cents/kWh)                    19431 non-null  float64\n",
      "dtypes: float64(2), object(22)\n",
      "memory usage: 3.6+ MB\n"
     ]
    }
   ],
   "source": [
    "sales_load_df.info()"
   ]
  },
  {
   "cell_type": "code",
   "execution_count": 12,
   "id": "02a1f843",
   "metadata": {},
   "outputs": [],
   "source": [
    "#convert columns to respective data types"
   ]
  },
  {
   "cell_type": "code",
   "execution_count": 13,
   "id": "536e665d",
   "metadata": {},
   "outputs": [
    {
     "data": {
      "text/html": [
       "<div>\n",
       "<style scoped>\n",
       "    .dataframe tbody tr th:only-of-type {\n",
       "        vertical-align: middle;\n",
       "    }\n",
       "\n",
       "    .dataframe tbody tr th {\n",
       "        vertical-align: top;\n",
       "    }\n",
       "\n",
       "    .dataframe thead th {\n",
       "        text-align: right;\n",
       "    }\n",
       "</style>\n",
       "<table border=\"1\" class=\"dataframe\">\n",
       "  <thead>\n",
       "    <tr style=\"text-align: right;\">\n",
       "      <th></th>\n",
       "      <th>Month</th>\n",
       "      <th>United States : all fuels (utility-scale) thousand megawatthours</th>\n",
       "    </tr>\n",
       "  </thead>\n",
       "  <tbody>\n",
       "    <tr>\n",
       "      <th>0</th>\n",
       "      <td>Oct-21</td>\n",
       "      <td>321061.6853</td>\n",
       "    </tr>\n",
       "    <tr>\n",
       "      <th>1</th>\n",
       "      <td>Sep-21</td>\n",
       "      <td>348077.0410</td>\n",
       "    </tr>\n",
       "    <tr>\n",
       "      <th>2</th>\n",
       "      <td>Aug-21</td>\n",
       "      <td>413949.2978</td>\n",
       "    </tr>\n",
       "    <tr>\n",
       "      <th>3</th>\n",
       "      <td>Jul-21</td>\n",
       "      <td>404662.6142</td>\n",
       "    </tr>\n",
       "    <tr>\n",
       "      <th>4</th>\n",
       "      <td>Jun-21</td>\n",
       "      <td>373670.8599</td>\n",
       "    </tr>\n",
       "  </tbody>\n",
       "</table>\n",
       "</div>"
      ],
      "text/plain": [
       "    Month  United States : all fuels (utility-scale) thousand megawatthours\n",
       "0  Oct-21                                        321061.6853               \n",
       "1  Sep-21                                        348077.0410               \n",
       "2  Aug-21                                        413949.2978               \n",
       "3  Jul-21                                        404662.6142               \n",
       "4  Jun-21                                        373670.8599               "
      ]
     },
     "execution_count": 13,
     "metadata": {},
     "output_type": "execute_result"
    }
   ],
   "source": [
    "## monthly total energy used in all sectors\n",
    "# This data is useful to have an understanding of the energy use in the US since 2001\n",
    "monthly_total_fuel_df.head()"
   ]
  },
  {
   "cell_type": "code",
   "execution_count": 14,
   "id": "18bf4815",
   "metadata": {},
   "outputs": [
    {
     "data": {
      "text/plain": [
       "False"
      ]
     },
     "execution_count": 14,
     "metadata": {},
     "output_type": "execute_result"
    }
   ],
   "source": [
    "#check nan in monthly_total_fuel\n",
    "monthly_total_fuel_df.isnull().values.any()"
   ]
  },
  {
   "cell_type": "code",
   "execution_count": 15,
   "id": "467957e1",
   "metadata": {},
   "outputs": [
    {
     "name": "stdout",
     "output_type": "stream",
     "text": [
      "<class 'pandas.core.frame.DataFrame'>\n",
      "RangeIndex: 250 entries, 0 to 249\n",
      "Data columns (total 2 columns):\n",
      " #   Column                                                            Non-Null Count  Dtype  \n",
      "---  ------                                                            --------------  -----  \n",
      " 0   Month                                                             250 non-null    object \n",
      " 1   United States : all fuels (utility-scale) thousand megawatthours  250 non-null    float64\n",
      "dtypes: float64(1), object(1)\n",
      "memory usage: 4.0+ KB\n"
     ]
    }
   ],
   "source": [
    "# data info monthly_total_fuel_df\n",
    "monthly_total_fuel_df.info()"
   ]
  },
  {
   "cell_type": "code",
   "execution_count": 16,
   "id": "09e50783",
   "metadata": {},
   "outputs": [],
   "source": [
    "#convert monthly fuel month to date"
   ]
  },
  {
   "cell_type": "code",
   "execution_count": null,
   "id": "cc2d247f",
   "metadata": {},
   "outputs": [],
   "source": []
  }
 ],
 "metadata": {
  "kernelspec": {
   "display_name": "PythonData",
   "language": "python",
   "name": "pythondata"
  },
  "language_info": {
   "codemirror_mode": {
    "name": "ipython",
    "version": 3
   },
   "file_extension": ".py",
   "mimetype": "text/x-python",
   "name": "python",
   "nbconvert_exporter": "python",
   "pygments_lexer": "ipython3",
   "version": "3.8.8"
  }
 },
 "nbformat": 4,
 "nbformat_minor": 5
}
